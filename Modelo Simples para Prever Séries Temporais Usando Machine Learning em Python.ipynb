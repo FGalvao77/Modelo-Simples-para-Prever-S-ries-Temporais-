{
 "cells": [
  {
   "cell_type": "markdown",
   "metadata": {},
   "source": [
    "### **Modelo Simples para Prever `Séries Temporais` utilizando _Regressão Linear_**\n",
    "---"
   ]
  },
  {
   "cell_type": "markdown",
   "metadata": {},
   "source": [
    "- https://www.mariofilho.com/como-criar-um-modelo-simples-para-prever-series-temporais-usando-machine-learning-em-python/"
   ]
  },
  {
   "cell_type": "code",
   "execution_count": 60,
   "metadata": {},
   "outputs": [
    {
     "name": "stdout",
     "output_type": "stream",
     "text": [
      "Versão do Python: 3.9.10\n",
      "SO: Windows 10\n"
     ]
    }
   ],
   "source": [
    "# importando as funções\n",
    "from platform import python_version, system, release\n",
    "\n",
    "print(f'Versão do Python: {python_version()}')\n",
    "print(F'SO: {system()} {release()}')"
   ]
  },
  {
   "cell_type": "code",
   "execution_count": 61,
   "metadata": {},
   "outputs": [],
   "source": [
    "# importando as bibliotecas\n",
    "import pandas as pd     # análise e manipulação de dados\n",
    "import numpy as np      # aplicações matemáticas"
   ]
  },
  {
   "cell_type": "code",
   "execution_count": 16,
   "metadata": {},
   "outputs": [],
   "source": [
    "# função para calcular o MAPE\n",
    "def mape(y_pred, y_true):\n",
    "    return np.mean(np.abs((y_true - y_pred) / y_true)) * 100"
   ]
  },
  {
   "cell_type": "code",
   "execution_count": 62,
   "metadata": {},
   "outputs": [],
   "source": [
    "# instanciando no objeto \"file_path\" a url do arquivo\n",
    "file_path = 'https://raw.githubusercontent.com/ledmaster/TimeSeriesForecasting/master/prime.csv'"
   ]
  },
  {
   "cell_type": "code",
   "execution_count": 63,
   "metadata": {},
   "outputs": [
    {
     "data": {
      "text/html": [
       "<div>\n",
       "<style scoped>\n",
       "    .dataframe tbody tr th:only-of-type {\n",
       "        vertical-align: middle;\n",
       "    }\n",
       "\n",
       "    .dataframe tbody tr th {\n",
       "        vertical-align: top;\n",
       "    }\n",
       "\n",
       "    .dataframe thead th {\n",
       "        text-align: right;\n",
       "    }\n",
       "</style>\n",
       "<table border=\"1\" class=\"dataframe\">\n",
       "  <thead>\n",
       "    <tr style=\"text-align: right;\">\n",
       "      <th></th>\n",
       "      <th>Value</th>\n",
       "    </tr>\n",
       "    <tr>\n",
       "      <th>Date</th>\n",
       "      <th></th>\n",
       "    </tr>\n",
       "  </thead>\n",
       "  <tbody>\n",
       "    <tr>\n",
       "      <th>2005-01-31</th>\n",
       "      <td>19.11</td>\n",
       "    </tr>\n",
       "    <tr>\n",
       "      <th>2005-02-28</th>\n",
       "      <td>19.40</td>\n",
       "    </tr>\n",
       "    <tr>\n",
       "      <th>2005-03-31</th>\n",
       "      <td>19.79</td>\n",
       "    </tr>\n",
       "    <tr>\n",
       "      <th>2005-04-30</th>\n",
       "      <td>20.68</td>\n",
       "    </tr>\n",
       "    <tr>\n",
       "      <th>2005-05-31</th>\n",
       "      <td>21.35</td>\n",
       "    </tr>\n",
       "  </tbody>\n",
       "</table>\n",
       "</div>"
      ],
      "text/plain": [
       "            Value\n",
       "Date             \n",
       "2005-01-31  19.11\n",
       "2005-02-28  19.40\n",
       "2005-03-31  19.79\n",
       "2005-04-30  20.68\n",
       "2005-05-31  21.35"
      ]
     },
     "execution_count": 63,
     "metadata": {},
     "output_type": "execute_result"
    }
   ],
   "source": [
    "# carregando os dados\n",
    "data = pd.read_csv(file_path, header=0, index_col=0).sort_index()\n",
    "\n",
    "# visualizando as 5 primeiras observções\n",
    "data.head()"
   ]
  },
  {
   "cell_type": "code",
   "execution_count": 64,
   "metadata": {},
   "outputs": [
    {
     "name": "stdout",
     "output_type": "stream",
     "text": [
      "[array([19.11, 19.4 , 19.79, 20.68, 21.35, 21.64]), array([19.4 , 19.79, 20.68, 21.35, 21.64, 21.35]), array([19.79, 20.68, 21.35, 21.64, 21.35, 21.16]), array([20.68, 21.35, 21.64, 21.35, 21.16, 21.07]), array([21.35, 21.64, 21.35, 21.16, 21.07, 21.07])]\n",
      "\n",
      "[21.35, 21.16, 21.07, 21.07, 21.2]\n"
     ]
    }
   ],
   "source": [
    "# instanciando duas listas para armazenar os dados da variável explicativa (X) e da variável resposta (y)\n",
    "X_data, y_data = [], []\n",
    "\n",
    "# realizando um laço de repetição onde cada linha da matriz X seja composta pelos 6 meses anteriores\n",
    "for d in range(6, data.shape[0]):\n",
    "\n",
    "    X = data.iloc[d-6:d].values.ravel()\n",
    "    y = data.iloc[d].values[0]\n",
    "\n",
    "    X_data.append(X)\n",
    "    y_data.append(y)\n",
    "\n",
    "# visualizando as 5 primeiras observações de cada objeto\n",
    "print(\n",
    "    X_data[:5],\n",
    "    y_data[:5],\n",
    "    sep='\\n\\n'\n",
    ")"
   ]
  },
  {
   "cell_type": "code",
   "execution_count": 65,
   "metadata": {},
   "outputs": [
    {
     "name": "stdout",
     "output_type": "stream",
     "text": [
      "<class 'list'>\n",
      "<class 'list'>\n"
     ]
    }
   ],
   "source": [
    "# visualizando o tipo de objeto\n",
    "print(type(X_data))\n",
    "print(type(y_data))"
   ]
  },
  {
   "cell_type": "code",
   "execution_count": 66,
   "metadata": {},
   "outputs": [],
   "source": [
    "# transformando o tipo dos objetos de \"list\" para \"numpy.array\"\n",
    "X_data = np.array(X_data)\n",
    "y_data = np.array(y_data)"
   ]
  },
  {
   "cell_type": "code",
   "execution_count": 67,
   "metadata": {},
   "outputs": [
    {
     "name": "stdout",
     "output_type": "stream",
     "text": [
      "<class 'numpy.ndarray'>\n",
      "<class 'numpy.ndarray'>\n"
     ]
    }
   ],
   "source": [
    "# visualizando o tipo de objeto depois da transformação\n",
    "print(type(X_data))\n",
    "print(type(y_data))"
   ]
  },
  {
   "cell_type": "code",
   "execution_count": 68,
   "metadata": {},
   "outputs": [
    {
     "name": "stdout",
     "output_type": "stream",
     "text": [
      "[[19.11 19.4  19.79 20.68 21.35 21.64]\n",
      " [19.4  19.79 20.68 21.35 21.64 21.35]\n",
      " [19.79 20.68 21.35 21.64 21.35 21.16]\n",
      " [20.68 21.35 21.64 21.35 21.16 21.07]\n",
      " [21.35 21.64 21.35 21.16 21.07 21.07]]\n",
      "\n",
      "[21.35 21.16 21.07 21.07 21.2 ]\n"
     ]
    }
   ],
   "source": [
    "# visualizando as 5 primeiras observações de cada objeto após a transformação do tipo\n",
    "print(\n",
    "    X_data[:5],\n",
    "    y_data[:5],\n",
    "    sep='\\n\\n'\n",
    ")"
   ]
  },
  {
   "cell_type": "code",
   "execution_count": 69,
   "metadata": {},
   "outputs": [],
   "source": [
    "# importando as funções para construção do modelo\n",
    "from sklearn.linear_model import LinearRegression\n",
    "from sklearn.pipeline import make_pipeline\n",
    "from sklearn.preprocessing import StandardScaler"
   ]
  },
  {
   "cell_type": "code",
   "execution_count": 28,
   "metadata": {},
   "outputs": [],
   "source": [
    "# listas para armazenar as previsões de cada modelo\n",
    "y_pred, y_pred_last, y_pred_ma, y_true = [], [], [], []\n",
    "end = y_data.shape[0] \n",
    "\n",
    "# realizando um laço de repetição \n",
    "for i in range(30, end):\n",
    "\n",
    "    # dados de treino\n",
    "    X_train = X_data[:i, :]\n",
    "    y_train = y_data[:i]\n",
    "\n",
    "    # dados de teste\n",
    "    X_test = X_data[i, :]\n",
    "    y_test = y_data[i]\n",
    "\n",
    "    # instanciando o modelo\n",
    "    #model = LinearRegression()\n",
    "    model = make_pipeline(StandardScaler(with_mean=True), LinearRegression(n_jobs=-1))\n",
    "\n",
    "    # treinando o modelo\n",
    "    model.fit(X_train, y_train)\n",
    "\n",
    "    # realizando as predições com o modelo após seu treinamento e salvando os resultados na lista\n",
    "    y_pred.append(model.predict([X_test]))\n",
    "    y_pred_last.append(X_test[-1])\n",
    "    y_pred_ma.append(X_test.mean())\n",
    "    y_true.append(y_test)"
   ]
  },
  {
   "cell_type": "code",
   "execution_count": 29,
   "metadata": {},
   "outputs": [],
   "source": [
    "# transformando as listas em arrays numpy para facilitar os cálculos\n",
    "y_pred = np.array(y_pred)\n",
    "y_pred_last = np.array(y_pred_last)\n",
    "y_pred_ma = np.array(y_pred_ma)\n",
    "y_true = np.array(y_true)"
   ]
  },
  {
   "cell_type": "code",
   "execution_count": 72,
   "metadata": {},
   "outputs": [
    {
     "name": "stdout",
     "output_type": "stream",
     "text": [
      "[[14.22736119]\n",
      " [14.29696094]\n",
      " [14.29719367]\n",
      " [13.70288403]\n",
      " [15.19079818]\n",
      " [15.79500856]\n",
      " [16.46186027]\n",
      " [16.65730177]\n",
      " [16.92879338]\n",
      " [18.25113656]]\n",
      "\n",
      "<class 'numpy.ndarray'>\n"
     ]
    }
   ],
   "source": [
    "# visualizando as 10 primeiras predições e a classe do objeto\n",
    "print(\n",
    "    y_pred[:10],\n",
    "    type(y_pred),\n",
    "    sep='\\n\\n'\n",
    ")"
   ]
  },
  {
   "cell_type": "code",
   "execution_count": 73,
   "metadata": {},
   "outputs": [],
   "source": [
    "# importando a função para cálculo do erro médio absoluto\n",
    "from sklearn.metrics import mean_absolute_error"
   ]
  },
  {
   "cell_type": "code",
   "execution_count": 74,
   "metadata": {},
   "outputs": [
    {
     "name": "stdout",
     "output_type": "stream",
     "text": [
      "\n",
      "Mean Absolute Percentage Error - MAPE\n",
      "Regressão Linear 17.652676714326322\n",
      "Último Valor 2.7677439037812333\n",
      "Média Móvel 7.903860891718388\n",
      "\n",
      "Mean Absolute Error - MAE\n",
      "Regressão Linear 0.2840871878813467\n",
      "Último Valor 0.427831325301205\n",
      "Média Móvel 1.1985140562248995\n"
     ]
    }
   ],
   "source": [
    "# imprimindo os resultados\n",
    "print('\\nMean Absolute Percentage Error - MAPE')\n",
    "print('Regressão Linear', mape(y_pred, y_true))\n",
    "print('Último Valor', mape(y_pred_last, y_true))\n",
    "print('Média Móvel', mape(y_pred_ma, y_true))\n",
    "\n",
    "\n",
    "print('\\nMean Absolute Error - MAE')\n",
    "print('Regressão Linear', mean_absolute_error(y_pred, y_true))\n",
    "print('Último Valor', mean_absolute_error(y_pred_last, y_true))\n",
    "print('Média Móvel', mean_absolute_error(y_pred_ma, y_true))"
   ]
  },
  {
   "cell_type": "code",
   "execution_count": 83,
   "metadata": {},
   "outputs": [],
   "source": [
    "# fazendo o teste com \"Wilcoxon Signed-Rank\" para determinar significado estatístico da diferença nos erros\n",
    "# OPCIONAL - REQUER SCIPY\n",
    "from scipy.stats import wilcoxon\n",
    "\n",
    "error_linreg = abs(y_true - y_pred)\n",
    "error_last = abs(y_true - y_pred_last)"
   ]
  },
  {
   "cell_type": "code",
   "execution_count": 93,
   "metadata": {},
   "outputs": [
    {
     "data": {
      "text/plain": [
       "(array([[0.12263881, 0.01263881, 0.12736119, ..., 1.07263881, 1.27263881,\n",
       "         1.37263881],\n",
       "        [0.05303906, 0.05696094, 0.19696094, ..., 1.00303906, 1.20303906,\n",
       "         1.30303906],\n",
       "        [0.05280633, 0.05719367, 0.19719367, ..., 1.00280633, 1.20280633,\n",
       "         1.30280633],\n",
       "        ...,\n",
       "        [0.9903742 , 1.1003742 , 1.2403742 , ..., 0.0403742 , 0.1596258 ,\n",
       "         0.2596258 ],\n",
       "        [0.9928321 , 1.1028321 , 1.2428321 , ..., 0.0428321 , 0.1571679 ,\n",
       "         0.2571679 ],\n",
       "        [1.26661873, 1.37661873, 1.51661873, ..., 0.31661873, 0.11661873,\n",
       "         0.01661873]]),\n",
       " 2.586659534520164)"
      ]
     },
     "execution_count": 93,
     "metadata": {},
     "output_type": "execute_result"
    }
   ],
   "source": [
    "error_linreg, error_linreg.mean()\n"
   ]
  },
  {
   "cell_type": "code",
   "execution_count": 94,
   "metadata": {},
   "outputs": [
    {
     "data": {
      "text/plain": [
       "(array([0.56, 0.11, 0.14, 0.58, 0.61, 0.92, 0.21, 0.36, 0.68, 1.79, 1.5 ,\n",
       "        1.03, 0.26, 1.01, 1.48, 1.96, 0.79, 1.01, 0.54, 0.52, 0.32, 0.44,\n",
       "        0.02, 0.38, 0.19, 0.37, 0.15, 0.26, 0.26, 0.48, 1.1 , 0.76, 0.15,\n",
       "        0.82, 0.23, 0.05, 0.63, 0.37, 0.27, 0.  , 0.1 , 0.2 , 0.4 , 0.  ,\n",
       "        0.4 , 0.6 , 0.3 , 0.6 , 0.2 , 0.1 , 0.2 , 0.5 , 1.3 , 0.9 , 0.5 ,\n",
       "        0.  , 0.1 , 0.5 , 0.1 , 0.2 , 0.  , 0.2 , 0.1 , 0.1 , 0.2 , 0.6 ,\n",
       "        0.7 , 0.7 , 0.5 , 0.2 , 0.2 , 0.2 , 0.3 , 0.1 , 0.3 , 0.1 , 0.  ,\n",
       "        0.1 , 0.  , 0.1 , 0.  , 0.2 , 0.1 ]),\n",
       " 0.427831325301205)"
      ]
     },
     "execution_count": 94,
     "metadata": {},
     "output_type": "execute_result"
    }
   ],
   "source": [
    "error_last, error_last.mean()"
   ]
  },
  {
   "cell_type": "code",
   "execution_count": 117,
   "metadata": {},
   "outputs": [
    {
     "data": {
      "text/plain": [
       "1.5072454299106846"
      ]
     },
     "execution_count": 117,
     "metadata": {},
     "output_type": "execute_result"
    }
   ],
   "source": [
    "(error_linreg.mean() + error_last.mean()) / 2"
   ]
  },
  {
   "cell_type": "code",
   "execution_count": 121,
   "metadata": {},
   "outputs": [
    {
     "data": {
      "text/plain": [
       "1.2517216434019519e-15"
      ]
     },
     "execution_count": 121,
     "metadata": {},
     "output_type": "execute_result"
    }
   ],
   "source": [
    "(wilcoxon(error_linreg).pvalue[0], error_last)[0] / 2.0"
   ]
  },
  {
   "cell_type": "code",
   "execution_count": 122,
   "metadata": {},
   "outputs": [
    {
     "data": {
      "text/plain": [
       "array([0.28 , 0.055, 0.07 , 0.29 , 0.305, 0.46 , 0.105, 0.18 , 0.34 ,\n",
       "       0.895, 0.75 , 0.515, 0.13 , 0.505, 0.74 , 0.98 , 0.395, 0.505,\n",
       "       0.27 , 0.26 , 0.16 , 0.22 , 0.01 , 0.19 , 0.095, 0.185, 0.075,\n",
       "       0.13 , 0.13 , 0.24 , 0.55 , 0.38 , 0.075, 0.41 , 0.115, 0.025,\n",
       "       0.315, 0.185, 0.135, 0.   , 0.05 , 0.1  , 0.2  , 0.   , 0.2  ,\n",
       "       0.3  , 0.15 , 0.3  , 0.1  , 0.05 , 0.1  , 0.25 , 0.65 , 0.45 ,\n",
       "       0.25 , 0.   , 0.05 , 0.25 , 0.05 , 0.1  , 0.   , 0.1  , 0.05 ,\n",
       "       0.05 , 0.1  , 0.3  , 0.35 , 0.35 , 0.25 , 0.1  , 0.1  , 0.1  ,\n",
       "       0.15 , 0.05 , 0.15 , 0.05 , 0.   , 0.05 , 0.   , 0.05 , 0.   ,\n",
       "       0.1  , 0.05 ])"
      ]
     },
     "execution_count": 122,
     "metadata": {},
     "output_type": "execute_result"
    }
   ],
   "source": [
    "(wilcoxon(error_linreg).pvalue[0], error_last)[1] / 2.0"
   ]
  },
  {
   "cell_type": "code",
   "execution_count": 127,
   "metadata": {},
   "outputs": [
    {
     "data": {
      "text/plain": [
       "2.9421518002774616e-13"
      ]
     },
     "execution_count": 127,
     "metadata": {},
     "output_type": "execute_result"
    }
   ],
   "source": [
    "wilcoxon(error_linreg[1], error_last)[1] / 2.0"
   ]
  },
  {
   "cell_type": "code",
   "execution_count": 128,
   "metadata": {},
   "outputs": [],
   "source": [
    "#pip install pingouin"
   ]
  },
  {
   "cell_type": "code",
   "execution_count": 129,
   "metadata": {},
   "outputs": [],
   "source": [
    "import pingouin as pg"
   ]
  },
  {
   "cell_type": "code",
   "execution_count": 132,
   "metadata": {},
   "outputs": [
    {
     "data": {
      "text/html": [
       "<div>\n",
       "<style scoped>\n",
       "    .dataframe tbody tr th:only-of-type {\n",
       "        vertical-align: middle;\n",
       "    }\n",
       "\n",
       "    .dataframe tbody tr th {\n",
       "        vertical-align: top;\n",
       "    }\n",
       "\n",
       "    .dataframe thead th {\n",
       "        text-align: right;\n",
       "    }\n",
       "</style>\n",
       "<table border=\"1\" class=\"dataframe\">\n",
       "  <thead>\n",
       "    <tr style=\"text-align: right;\">\n",
       "      <th></th>\n",
       "      <th>W-val</th>\n",
       "      <th>alternative</th>\n",
       "      <th>p-val</th>\n",
       "      <th>RBC</th>\n",
       "      <th>CLES</th>\n",
       "    </tr>\n",
       "  </thead>\n",
       "  <tbody>\n",
       "    <tr>\n",
       "      <th>Wilcoxon</th>\n",
       "      <td>156.5</td>\n",
       "      <td>two-sided</td>\n",
       "      <td>5.983119e-13</td>\n",
       "      <td>0.910212</td>\n",
       "      <td>0.840615</td>\n",
       "    </tr>\n",
       "  </tbody>\n",
       "</table>\n",
       "</div>"
      ],
      "text/plain": [
       "          W-val alternative         p-val       RBC      CLES\n",
       "Wilcoxon  156.5   two-sided  5.983119e-13  0.910212  0.840615"
      ]
     },
     "execution_count": 132,
     "metadata": {},
     "output_type": "execute_result"
    }
   ],
   "source": [
    "pg.wilcoxon(error_linreg[1], error_last)"
   ]
  },
  {
   "cell_type": "code",
   "execution_count": 133,
   "metadata": {},
   "outputs": [
    {
     "data": {
      "text/plain": [
       "array([[0.12263881, 0.01263881, 0.12736119, ..., 1.07263881, 1.27263881,\n",
       "        1.37263881],\n",
       "       [0.05303906, 0.05696094, 0.19696094, ..., 1.00303906, 1.20303906,\n",
       "        1.30303906],\n",
       "       [0.05280633, 0.05719367, 0.19719367, ..., 1.00280633, 1.20280633,\n",
       "        1.30280633],\n",
       "       ...,\n",
       "       [0.9903742 , 1.1003742 , 1.2403742 , ..., 0.0403742 , 0.1596258 ,\n",
       "        0.2596258 ],\n",
       "       [0.9928321 , 1.1028321 , 1.2428321 , ..., 0.0428321 , 0.1571679 ,\n",
       "        0.2571679 ],\n",
       "       [1.26661873, 1.37661873, 1.51661873, ..., 0.31661873, 0.11661873,\n",
       "        0.01661873]])"
      ]
     },
     "execution_count": 133,
     "metadata": {},
     "output_type": "execute_result"
    }
   ],
   "source": [
    "error_linreg"
   ]
  },
  {
   "cell_type": "code",
   "execution_count": 134,
   "metadata": {},
   "outputs": [
    {
     "data": {
      "text/plain": [
       "array([0.56, 0.11, 0.14, 0.58, 0.61, 0.92, 0.21, 0.36, 0.68, 1.79, 1.5 ,\n",
       "       1.03, 0.26, 1.01, 1.48, 1.96, 0.79, 1.01, 0.54, 0.52, 0.32, 0.44,\n",
       "       0.02, 0.38, 0.19, 0.37, 0.15, 0.26, 0.26, 0.48, 1.1 , 0.76, 0.15,\n",
       "       0.82, 0.23, 0.05, 0.63, 0.37, 0.27, 0.  , 0.1 , 0.2 , 0.4 , 0.  ,\n",
       "       0.4 , 0.6 , 0.3 , 0.6 , 0.2 , 0.1 , 0.2 , 0.5 , 1.3 , 0.9 , 0.5 ,\n",
       "       0.  , 0.1 , 0.5 , 0.1 , 0.2 , 0.  , 0.2 , 0.1 , 0.1 , 0.2 , 0.6 ,\n",
       "       0.7 , 0.7 , 0.5 , 0.2 , 0.2 , 0.2 , 0.3 , 0.1 , 0.3 , 0.1 , 0.  ,\n",
       "       0.1 , 0.  , 0.1 , 0.  , 0.2 , 0.1 ])"
      ]
     },
     "execution_count": 134,
     "metadata": {},
     "output_type": "execute_result"
    }
   ],
   "source": [
    "error_last"
   ]
  },
  {
   "cell_type": "code",
   "execution_count": 135,
   "metadata": {},
   "outputs": [
    {
     "data": {
      "text/plain": [
       "1.2517216434019519e-15"
      ]
     },
     "execution_count": 135,
     "metadata": {},
     "output_type": "execute_result"
    }
   ],
   "source": [
    "(wilcoxon(error_linreg).pvalue[0], error_last)[0] / 2.0"
   ]
  },
  {
   "cell_type": "code",
   "execution_count": 136,
   "metadata": {},
   "outputs": [
    {
     "data": {
      "text/plain": [
       "(2.5034432868039037e-15,\n",
       " array([0.56, 0.11, 0.14, 0.58, 0.61, 0.92, 0.21, 0.36, 0.68, 1.79, 1.5 ,\n",
       "        1.03, 0.26, 1.01, 1.48, 1.96, 0.79, 1.01, 0.54, 0.52, 0.32, 0.44,\n",
       "        0.02, 0.38, 0.19, 0.37, 0.15, 0.26, 0.26, 0.48, 1.1 , 0.76, 0.15,\n",
       "        0.82, 0.23, 0.05, 0.63, 0.37, 0.27, 0.  , 0.1 , 0.2 , 0.4 , 0.  ,\n",
       "        0.4 , 0.6 , 0.3 , 0.6 , 0.2 , 0.1 , 0.2 , 0.5 , 1.3 , 0.9 , 0.5 ,\n",
       "        0.  , 0.1 , 0.5 , 0.1 , 0.2 , 0.  , 0.2 , 0.1 , 0.1 , 0.2 , 0.6 ,\n",
       "        0.7 , 0.7 , 0.5 , 0.2 , 0.2 , 0.2 , 0.3 , 0.1 , 0.3 , 0.1 , 0.  ,\n",
       "        0.1 , 0.  , 0.1 , 0.  , 0.2 , 0.1 ]))"
      ]
     },
     "execution_count": 136,
     "metadata": {},
     "output_type": "execute_result"
    }
   ],
   "source": [
    "(wilcoxon(error_linreg).pvalue[0], error_last)"
   ]
  },
  {
   "cell_type": "code",
   "execution_count": 137,
   "metadata": {},
   "outputs": [
    {
     "data": {
      "text/plain": [
       "(2.5034432868039037e-15, 3.557371263838302e-14)"
      ]
     },
     "execution_count": 137,
     "metadata": {},
     "output_type": "execute_result"
    }
   ],
   "source": [
    "(wilcoxon(error_linreg).pvalue[1], wilcoxon(error_last).pvalue) \n"
   ]
  },
  {
   "cell_type": "code",
   "execution_count": 138,
   "metadata": {},
   "outputs": [
    {
     "data": {
      "text/plain": [
       "WilcoxonResult(statistic=array([0., 0., 0., 0., 0., 0., 0., 0., 0., 0., 0., 0., 0., 0., 0., 0., 0.,\n",
       "       0., 0., 0., 0., 0., 0., 0., 0., 0., 0., 0., 0., 0., 0., 0., 0., 0.,\n",
       "       0., 0., 0., 0., 0., 0., 0., 0., 0., 0., 0., 0., 0., 0., 0., 0., 0.,\n",
       "       0., 0., 0., 0., 0., 0., 0., 0., 0., 0., 0., 0., 0., 0., 0., 0., 0.,\n",
       "       0., 0., 0., 0., 0., 0., 0., 0., 0., 0., 0., 0., 0., 0., 0.]), pvalue=array([2.50344329e-15, 2.50344329e-15, 2.50344329e-15, 2.50344329e-15,\n",
       "       2.50344329e-15, 2.50344329e-15, 2.50344329e-15, 2.50344329e-15,\n",
       "       2.50344329e-15, 2.50344329e-15, 2.50344329e-15, 2.50344329e-15,\n",
       "       2.50344329e-15, 2.50344329e-15, 2.50344329e-15, 2.50344329e-15,\n",
       "       2.50344329e-15, 2.50344329e-15, 2.50344329e-15, 2.50344329e-15,\n",
       "       2.50344329e-15, 2.50344329e-15, 2.50344329e-15, 2.50344329e-15,\n",
       "       2.50344329e-15, 2.50344329e-15, 2.50344329e-15, 2.50344329e-15,\n",
       "       2.50344329e-15, 2.50344329e-15, 2.50344329e-15, 2.50344329e-15,\n",
       "       2.50344329e-15, 2.50344329e-15, 2.50344329e-15, 2.50344329e-15,\n",
       "       2.50344329e-15, 2.50344329e-15, 2.50344329e-15, 2.50344329e-15,\n",
       "       2.50344329e-15, 2.50344329e-15, 2.50344329e-15, 2.50344329e-15,\n",
       "       2.50344329e-15, 2.50344329e-15, 2.50344329e-15, 2.50344329e-15,\n",
       "       2.50344329e-15, 2.50344329e-15, 2.50344329e-15, 2.50344329e-15,\n",
       "       2.50344329e-15, 2.50344329e-15, 2.50344329e-15, 2.50344329e-15,\n",
       "       2.50344329e-15, 2.50344329e-15, 2.50344329e-15, 2.50344329e-15,\n",
       "       2.50344329e-15, 2.50344329e-15, 2.50344329e-15, 2.50344329e-15,\n",
       "       2.50344329e-15, 2.50344329e-15, 2.50344329e-15, 2.50344329e-15,\n",
       "       2.50344329e-15, 2.50344329e-15, 2.50344329e-15, 2.50344329e-15,\n",
       "       2.50344329e-15, 2.50344329e-15, 2.50344329e-15, 2.50344329e-15,\n",
       "       2.50344329e-15, 2.50344329e-15, 2.50344329e-15, 2.50344329e-15,\n",
       "       2.50344329e-15, 2.50344329e-15, 2.50344329e-15]))"
      ]
     },
     "execution_count": 138,
     "metadata": {},
     "output_type": "execute_result"
    }
   ],
   "source": [
    "wilcoxon(error_linreg)"
   ]
  },
  {
   "cell_type": "code",
   "execution_count": 139,
   "metadata": {},
   "outputs": [
    {
     "data": {
      "text/plain": [
       "2.5034432868039037e-15"
      ]
     },
     "execution_count": 139,
     "metadata": {},
     "output_type": "execute_result"
    }
   ],
   "source": [
    "wilcoxon(error_linreg).pvalue[1]"
   ]
  },
  {
   "cell_type": "code",
   "execution_count": 140,
   "metadata": {},
   "outputs": [
    {
     "data": {
      "text/plain": [
       "3.557371263838302e-14"
      ]
     },
     "execution_count": 140,
     "metadata": {},
     "output_type": "execute_result"
    }
   ],
   "source": [
    "wilcoxon(error_last).pvalue"
   ]
  },
  {
   "cell_type": "code",
   "execution_count": 141,
   "metadata": {},
   "outputs": [
    {
     "data": {
      "text/plain": [
       "0.3557371263838327"
      ]
     },
     "execution_count": 141,
     "metadata": {},
     "output_type": "execute_result"
    }
   ],
   "source": [
    "(2.5034432868039037e-15 + 3.557371263838302e-1) "
   ]
  },
  {
   "cell_type": "code",
   "execution_count": 142,
   "metadata": {},
   "outputs": [
    {
     "data": {
      "text/plain": [
       "WilcoxonResult(statistic=0.0, pvalue=3.557371263838302e-14)"
      ]
     },
     "execution_count": 142,
     "metadata": {},
     "output_type": "execute_result"
    }
   ],
   "source": [
    "wilcoxon(error_last)"
   ]
  },
  {
   "cell_type": "code",
   "execution_count": 143,
   "metadata": {},
   "outputs": [
    {
     "data": {
      "text/plain": [
       "False"
      ]
     },
     "execution_count": 143,
     "metadata": {},
     "output_type": "execute_result"
    }
   ],
   "source": [
    "3.557371263838302e-14 > 0.05"
   ]
  },
  {
   "cell_type": "code",
   "execution_count": 146,
   "metadata": {},
   "outputs": [
    {
     "data": {
      "text/plain": [
       "WilcoxonResult(statistic=173.5, pvalue=1.033638307882614e-12)"
      ]
     },
     "execution_count": 146,
     "metadata": {},
     "output_type": "execute_result"
    }
   ],
   "source": [
    "wilcoxon(error_linreg[0], error_last)"
   ]
  },
  {
   "cell_type": "code",
   "execution_count": 147,
   "metadata": {},
   "outputs": [
    {
     "data": {
      "text/plain": [
       "WilcoxonResult(statistic=156.5, pvalue=5.884303600554923e-13)"
      ]
     },
     "execution_count": 147,
     "metadata": {},
     "output_type": "execute_result"
    }
   ],
   "source": [
    "wilcoxon(error_linreg[1], error_last)"
   ]
  },
  {
   "cell_type": "code",
   "execution_count": 148,
   "metadata": {},
   "outputs": [
    {
     "data": {
      "text/plain": [
       "WilcoxonResult(statistic=156.5, pvalue=5.884303600554923e-13)"
      ]
     },
     "execution_count": 148,
     "metadata": {},
     "output_type": "execute_result"
    }
   ],
   "source": [
    "wilcoxon(error_linreg[2], error_last)"
   ]
  },
  {
   "cell_type": "code",
   "execution_count": 149,
   "metadata": {},
   "outputs": [
    {
     "data": {
      "text/plain": [
       "2.9421518002774616e-13"
      ]
     },
     "execution_count": 149,
     "metadata": {},
     "output_type": "execute_result"
    }
   ],
   "source": [
    "wilcoxon(error_linreg[2], error_last)[1] / 2.0\n"
   ]
  },
  {
   "cell_type": "code",
   "execution_count": 150,
   "metadata": {},
   "outputs": [],
   "source": [
    "import matplotlib.pyplot as plt\n",
    "%matplotlib inline"
   ]
  },
  {
   "cell_type": "code",
   "execution_count": 151,
   "metadata": {},
   "outputs": [
    {
     "data": {
      "image/png": "[encoded data removed]",
      "text/plain": [
       "<Figure size 864x504 with 1 Axes>"
      ]
     },
     "metadata": {
      "needs_background": "light"
     },
     "output_type": "display_data"
    }
   ],
   "source": [
    "#Cria um gráfico dos valores reais, previsões da regressão linear e do modelo utilizando o último valor\n",
    "plt.figure(figsize=(12,7))\n",
    "plt.title('Prime Rate Brasil - Mensal - 2005 a 2014\\n', \n",
    "         {'fontsize': 14,'fontweight': 'bold'})\n",
    "plt.ylabel('Prime Rate')\n",
    "plt.xlabel(u'Períodos (Meses)')\n",
    "\n",
    "reg_val, = plt.plot(y_pred, color='b', label=u'Regressão Linear')\n",
    "true_val, = plt.plot(y_true, color='g', label='Valores Reais')\n",
    "\n",
    "plt.xlim([0,85])\n",
    "plt.legend(handles=[true_val, reg_val])\n",
    "plt.show();"
   ]
  },
  {
   "cell_type": "code",
   "execution_count": null,
   "metadata": {},
   "outputs": [],
   "source": []
  },
  {
   "cell_type": "code",
   "execution_count": null,
   "metadata": {},
   "outputs": [],
   "source": []
  },
  {
   "cell_type": "code",
   "execution_count": null,
   "metadata": {},
   "outputs": [],
   "source": []
  },
  {
   "cell_type": "code",
   "execution_count": null,
   "metadata": {},
   "outputs": [],
   "source": []
  }
 ],
 "metadata": {
  "interpreter": {
   "hash": "6bafd6474ce4b62c03605d0b33fc5128bd027b02227412e991dce6264322d045"
  },
  "kernelspec": {
   "display_name": "Python 3.9.10 64-bit (windows store)",
   "language": "python",
   "name": "python3"
  },
  "language_info": {
   "codemirror_mode": {
    "name": "ipython",
    "version": 3
   },
   "file_extension": ".py",
   "mimetype": "text/x-python",
   "name": "python",
   "nbconvert_exporter": "python",
   "pygments_lexer": "ipython3",
   "version": "3.9.10"
  },
  "orig_nbformat": 4
 },
 "nbformat": 4,
 "nbformat_minor": 2
}
